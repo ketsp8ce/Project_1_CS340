{
 "cells": [
  {
   "cell_type": "code",
   "execution_count": 1,
   "id": "66f5d06f",
   "metadata": {
    "scrolled": true
   },
   "outputs": [
    {
     "name": "stdout",
     "output_type": "stream",
     "text": [
      "the AnimalShelter class was sucessfully imported and instantiated as an object called 'petClub' \n"
     ]
    }
   ],
   "source": [
    "#hunter_marx@snhu\n",
    "\n",
    "import random\n",
    "from datetime import datetime\n",
    "from AnimalShelter import AnimalShelter\n",
    "\n",
    "\n",
    "petClub = AnimalShelter()\n",
    "\n",
    "print(\"the AnimalShelter class was sucessfully imported and instantiated as an object called 'petClub' \")\n",
    "\n",
    "#Create (C) test\n",
    "#new document to be inserted\n",
    "juni_document= {\n",
    "    \"rec_num\": 22,\n",
    "    \"age_upon_outcome\":\"1 year\",\n",
    "    \"animal_id\":f\"A{random.randint(700000,799999)}\",\n",
    "    \"animal_type\":\"Cat\",\n",
    "    \"breed\":\"Domestic Shorthair Tabby\",\n",
    "    \"color\": \"Orange\",\n",
    "    \"date_of_birth\": \"2019-01-01\",\n",
    "    \"datetime\": datetime.now(),\n",
    "    \"monthyear\": datetime.now().strftime(\"%Y-%m-%dT%H:%M:%S\"),\n",
    "    \"name\": \"Juni\",\n",
    "    \"outcome_subtype\": \"\",\n",
    "    \"outcome_type\":\"Adoption\",\n",
    "    \"sex_upon_outcome\": \"Neutered Male\",\n",
    "    \"location_lat\": round(30.26 + random.uniform(-0.5, 0.5), 6),\n",
    "    \"location_long\": round(-97.74 + random.uniform(-0.5, 0.5), 6),\n",
    "    \"age_upon_outcome_in_weeks\": 50\n",
    "}\n"
   ]
  },
  {
   "cell_type": "code",
   "execution_count": 2,
   "id": "a4c18990",
   "metadata": {},
   "outputs": [
    {
     "name": "stdout",
     "output_type": "stream",
     "text": [
      "Error: insert failed - nv-desktop-services.apporto.com:31580: [Errno 111] Connection refused, Timeout: 30s, Topology Description: <TopologyDescription id: 683dee867048add85304e780, topology_type: Single, servers: [<ServerDescription ('nv-desktop-services.apporto.com', 31580) server_type: Unknown, rtt: None, error=AutoReconnect('nv-desktop-services.apporto.com:31580: [Errno 111] Connection refused')>]>\n",
      "the document failed to be created\n",
      "Query failed: nv-desktop-services.apporto.com:31580: [Errno 111] Connection refused, Timeout: 30s, Topology Description: <TopologyDescription id: 683dee867048add85304e780, topology_type: Single, servers: [<ServerDescription ('nv-desktop-services.apporto.com', 31580) server_type: Unknown, rtt: None, error=AutoReconnect('nv-desktop-services.apporto.com:31580: [Errno 111] Connection refused')>]>\n",
      "no documents match the query sorry\n"
     ]
    }
   ],
   "source": [
    "#hunter_marx@snhu\n",
    "#Create (C) test\n",
    "create_result = petClub.create(juni_document)\n",
    "\n",
    "if create_result:\n",
    "    print(\"The document for Juni was sucessfully created\")\n",
    "else:\n",
    "    print(\"the document failed to be created\")\n",
    "    \n",
    "#Read (R) test\n",
    "#query to read the inserted document\n",
    "juniQuery = {\"name\":\"Juni\"} \n",
    "juniOutput = petClub.read(juniQuery)\n",
    "\n",
    "#print output of what was read\n",
    "\n",
    "if juniOutput:\n",
    "    print(f\"\\nFound {len(juniOutput)} document that matches query:\")\n",
    "    for doc in juniOutput:\n",
    "        print(\"Document Output:\")\n",
    "        for key, value in doc.items():\n",
    "            print(f\"{key}: {value}\")\n",
    "else:\n",
    "    print(\"no documents match the query sorry\")\n",
    "    "
   ]
  },
  {
   "cell_type": "code",
   "execution_count": null,
   "id": "d57c8058",
   "metadata": {},
   "outputs": [],
   "source": []
  },
  {
   "cell_type": "code",
   "execution_count": null,
   "id": "9d3754ff",
   "metadata": {},
   "outputs": [],
   "source": []
  },
  {
   "cell_type": "code",
   "execution_count": null,
   "id": "e1767c13",
   "metadata": {},
   "outputs": [],
   "source": []
  },
  {
   "cell_type": "code",
   "execution_count": null,
   "id": "72bc600d",
   "metadata": {},
   "outputs": [],
   "source": []
  }
 ],
 "metadata": {
  "kernelspec": {
   "display_name": "Python 3 (ipykernel)",
   "language": "python",
   "name": "python3"
  },
  "language_info": {
   "codemirror_mode": {
    "name": "ipython",
    "version": 3
   },
   "file_extension": ".py",
   "mimetype": "text/x-python",
   "name": "python",
   "nbconvert_exporter": "python",
   "pygments_lexer": "ipython3",
   "version": "3.9.12"
  }
 },
 "nbformat": 4,
 "nbformat_minor": 5
}
