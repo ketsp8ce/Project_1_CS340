{
 "cells": [
  {
   "cell_type": "code",
   "execution_count": 15,
   "id": "1f257e48",
   "metadata": {},
   "outputs": [
    {
     "name": "stdout",
     "output_type": "stream",
     "text": [
      "Sucess! Established connection to database; AnimalShelter instance was sucessfully instantiated as 'petClub'\n"
     ]
    }
   ],
   "source": [
    "#hunter_marx@snhu\n",
    "import random\n",
    "from datetime import datetime\n",
    "from AnimalShelter import AnimalShelter\n",
    "\n",
    "#instantiate animalshelter instance with credentials\n",
    "\n",
    "#pass credentials at runtime\n",
    "petClub = AnimalShelter(\n",
    "    username=\"aacuser\",\n",
    "    password=\"zoo789\",\n",
    "    host=\"nv-desktop-services.apporto.com\",\n",
    "    port=31580\n",
    ")\n",
    "\n",
    "if petClub:\n",
    "    print(\"Sucess! Established connection to database; AnimalShelter instance was sucessfully instantiated as 'petClub'\")\n"
   ]
  },
  {
   "cell_type": "code",
   "execution_count": 16,
   "id": "d7dc0555",
   "metadata": {},
   "outputs": [
    {
     "name": "stdout",
     "output_type": "stream",
     "text": [
      "Error: insert failed - nv-desktop-services.apporto.com:31580: [Errno 111] Connection refused, Timeout: 30s, Topology Description: <TopologyDescription id: 684b3420559217561aa6efe3, topology_type: Single, servers: [<ServerDescription ('nv-desktop-services.apporto.com', 31580) server_type: Unknown, rtt: None, error=AutoReconnect('nv-desktop-services.apporto.com:31580: [Errno 111] Connection refused')>]>\n"
     ]
    }
   ],
   "source": [
    "# Create a new test document\n",
    "#CREATE\n",
    "juniDocument = {\n",
    "    \"rec_num\": 22,\n",
    "    \"age_upon_outcome\": \"1 year\",\n",
    "    \"animal_id\": f\"A{random.randint(700000, 799999)}\",\n",
    "    \"animal_type\": \"Cat\",\n",
    "    \"breed\": \"Domestic Shorthair Tabby\",\n",
    "    \"color\": \"Orange\",\n",
    "    \"date_of_birth\": \"2019-01-01\",\n",
    "    \"datetime\": datetime.now(),\n",
    "    \"monthyear\": datetime.now().strftime(\"%Y-%m-%dT%H:%M:%S\"),\n",
    "    \"name\": \"Juni\",\n",
    "    \"outcome_subtype\": \"\",\n",
    "    \"outcome_type\": \"Foster\",\n",
    "    \"sex_upon_outcome\": \"Neutered Male\",\n",
    "    \"location_lat\": round(30.26 + random.uniform(-0.5, 0.5), 6),\n",
    "    \"location_long\": round(-97.74 + random.uniform(-0.5, 0.5), 6),\n",
    "    \"age_upon_outcome_in_weeks\": 50\n",
    "}\n",
    "\n",
    "cResult = petClub.create(juniDocument)\n",
    "\n",
    "if cResult:\n",
    "    print(\"document was sucessfully created!\")\n"
   ]
  },
  {
   "cell_type": "code",
   "execution_count": 3,
   "id": "1c9f8a0d",
   "metadata": {},
   "outputs": [
    {
     "name": "stdout",
     "output_type": "stream",
     "text": [
      "Query failed: nv-desktop-services.apporto.com:31580: [Errno 111] Connection refused, Timeout: 30s, Topology Description: <TopologyDescription id: 6849dd363f18d5020f52aef3, topology_type: Single, servers: [<ServerDescription ('nv-desktop-services.apporto.com', 31580) server_type: Unknown, rtt: None, error=AutoReconnect('nv-desktop-services.apporto.com:31580: [Errno 111] Connection refused')>]>\n",
      "No documents found matching query\n"
     ]
    }
   ],
   "source": [
    "#READ\n",
    "juniQuery = {\"name\": \"Juni\"}\n",
    "juniOutput = petClub.read(juniQuery)\n",
    "\n",
    "if juniOutput:\n",
    "    print(f\"Found {len(juniOutput)} document(s) matching query:\")\n",
    "    for doc in juniOutput:\n",
    "        for key, value in doc.items():\n",
    "            print(f\"{key}: {value}\")\n",
    "else:\n",
    "    print(\"No documents found matching query\")"
   ]
  },
  {
   "cell_type": "code",
   "execution_count": 14,
   "id": "c7c457b6",
   "metadata": {},
   "outputs": [
    {
     "ename": "NameError",
     "evalue": "name 'datetime' is not defined",
     "output_type": "error",
     "traceback": [
      "\u001b[0;31m---------------------------------------------------------------------------\u001b[0m",
      "\u001b[0;31mNameError\u001b[0m                                 Traceback (most recent call last)",
      "Input \u001b[0;32mIn [14]\u001b[0m, in \u001b[0;36m<cell line: 10>\u001b[0;34m()\u001b[0m\n\u001b[1;32m      2\u001b[0m \u001b[38;5;124;03m\"\"\"An Update method that queries for and changes document(s) from a specified MongoDB database and specified collection\u001b[39;00m\n\u001b[1;32m      3\u001b[0m \u001b[38;5;124;03mInput -> arguments to function should be the key/value lookup pair to use with the MongoDB driver Find API call. The last argument to function will be a set of key/value pairs in the data type acceptable to the MongoDB driver update_one() or update_many() API call.\u001b[39;00m\n\u001b[1;32m      4\u001b[0m \u001b[38;5;124;03mReturn -> The number of objects modified in the collection.\u001b[39;00m\n\u001b[1;32m      5\u001b[0m \u001b[38;5;124;03m\"\"\"\u001b[39;00m\n\u001b[1;32m      7\u001b[0m entryToUpdate \u001b[38;5;241m=\u001b[39m {\u001b[38;5;124m\"\u001b[39m\u001b[38;5;124mname\u001b[39m\u001b[38;5;124m\"\u001b[39m: \u001b[38;5;124m\"\u001b[39m\u001b[38;5;124mJuni\u001b[39m\u001b[38;5;124m\"\u001b[39m}\n\u001b[1;32m      9\u001b[0m newInfo \u001b[38;5;241m=\u001b[39m {\n\u001b[1;32m     10\u001b[0m     \u001b[38;5;124m\"\u001b[39m\u001b[38;5;124m$set\u001b[39m\u001b[38;5;124m\"\u001b[39m: {\n\u001b[1;32m     11\u001b[0m         \u001b[38;5;124m\"\u001b[39m\u001b[38;5;124mage_upon_outcome\u001b[39m\u001b[38;5;124m\"\u001b[39m: \u001b[38;5;124m\"\u001b[39m\u001b[38;5;124m2 years\u001b[39m\u001b[38;5;124m\"\u001b[39m,\n\u001b[1;32m     12\u001b[0m         \u001b[38;5;124m\"\u001b[39m\u001b[38;5;124moutcome_type\u001b[39m\u001b[38;5;124m\"\u001b[39m: \u001b[38;5;124m\"\u001b[39m\u001b[38;5;124mAdoption\u001b[39m\u001b[38;5;124m\"\u001b[39m,\n\u001b[0;32m---> 13\u001b[0m         \u001b[38;5;124m\"\u001b[39m\u001b[38;5;124mdatetime\u001b[39m\u001b[38;5;124m\"\u001b[39m: \u001b[43mdatetime\u001b[49m\u001b[38;5;241m.\u001b[39mnow(),\n\u001b[1;32m     14\u001b[0m         \u001b[38;5;124m\"\u001b[39m\u001b[38;5;124mage_upon_outcome_in_weeks\u001b[39m\u001b[38;5;124m\"\u001b[39m: \u001b[38;5;241m104\u001b[39m\n\u001b[1;32m     15\u001b[0m     }\n\u001b[1;32m     16\u001b[0m }\n\u001b[1;32m     18\u001b[0m updatedEntry \u001b[38;5;241m=\u001b[39m petClub\u001b[38;5;241m.\u001b[39mupdate(entryToUpdate, NewInfo)\n\u001b[1;32m     20\u001b[0m  \u001b[38;5;66;03m#print updated fields\u001b[39;00m\n",
      "\u001b[0;31mNameError\u001b[0m: name 'datetime' is not defined"
     ]
    }
   ],
   "source": [
    "#UPDATE\n",
    "\"\"\"An Update method that queries for and changes document(s) from a specified MongoDB database and specified collection\n",
    "Input -> arguments to function should be the key/value lookup pair to use with the MongoDB driver Find API call. The last argument to function will be a set of key/value pairs in the data type acceptable to the MongoDB driver update_one() or update_many() API call.\n",
    "Return -> The number of objects modified in the collection.\n",
    "\"\"\"\n",
    "\n",
    "entryToUpdate = {\"name\": \"Juni\"}\n",
    "\n",
    "newInfo = {\n",
    "    \"$set\": {\n",
    "        \"age_upon_outcome\": \"2 years\",\n",
    "        \"outcome_type\": \"Adoption\",\n",
    "        \"datetime\": datetime.now(),\n",
    "        \"age_upon_outcome_in_weeks\": 104\n",
    "    }\n",
    "}\n",
    "\n",
    "updatedEntry = petClub.update(entryToUpdate, NewInfo)\n",
    "\n",
    " #print updated fields\n",
    "if updatedEntry.changesMade > 0:\n",
    "    print(f\"{updatedEntry.modified_count} records were updated\")\n",
    "    print(f\"the fields modified were:\", list(newInfo[\"$set\"].keys()))\n",
    "   \n",
    "\n"
   ]
  },
  {
   "cell_type": "code",
   "execution_count": 17,
   "id": "72184ca9",
   "metadata": {},
   "outputs": [
    {
     "name": "stdout",
     "output_type": "stream",
     "text": [
      "Delete failed: nv-desktop-services.apporto.com:31580: [Errno 111] Connection refused, Timeout: 30s, Topology Description: <TopologyDescription id: 684b3420559217561aa6efe3, topology_type: Single, servers: [<ServerDescription ('nv-desktop-services.apporto.com', 31580) server_type: Unknown, rtt: None, error=AutoReconnect('nv-desktop-services.apporto.com:31580: [Errno 111] Connection refused')>]>\n"
     ]
    },
    {
     "ename": "AttributeError",
     "evalue": "'int' object has no attribute 'deleted_count'",
     "output_type": "error",
     "traceback": [
      "\u001b[0;31m---------------------------------------------------------------------------\u001b[0m",
      "\u001b[0;31mAttributeError\u001b[0m                            Traceback (most recent call last)",
      "Input \u001b[0;32mIn [17]\u001b[0m, in \u001b[0;36m<cell line: 10>\u001b[0;34m()\u001b[0m\n\u001b[1;32m      6\u001b[0m entryToDelete\u001b[38;5;241m=\u001b[39m {\u001b[38;5;124m\"\u001b[39m\u001b[38;5;124mname\u001b[39m\u001b[38;5;124m\"\u001b[39m: \u001b[38;5;124m\"\u001b[39m\u001b[38;5;124mJuni\u001b[39m\u001b[38;5;124m\"\u001b[39m}\n\u001b[1;32m      8\u001b[0m deleted \u001b[38;5;241m=\u001b[39m petClub\u001b[38;5;241m.\u001b[39mdelete(entryToDelete)\n\u001b[0;32m---> 10\u001b[0m \u001b[38;5;28;01mif\u001b[39;00m \u001b[43mdeleted\u001b[49m\u001b[38;5;241;43m.\u001b[39;49m\u001b[43mdeleted_count\u001b[49m \u001b[38;5;241m>\u001b[39m \u001b[38;5;241m0\u001b[39m:\n\u001b[1;32m     11\u001b[0m     \u001b[38;5;28mprint\u001b[39m(\u001b[38;5;124mf\u001b[39m\u001b[38;5;124m\"\u001b[39m\u001b[38;5;124mremoved \u001b[39m\u001b[38;5;132;01m{\u001b[39;00mdeleted\u001b[38;5;241m.\u001b[39mdeleted_count\u001b[38;5;132;01m}\u001b[39;00m\u001b[38;5;124m Juni\u001b[39m\u001b[38;5;124m'\u001b[39m\u001b[38;5;124ms document entry\u001b[39m\u001b[38;5;124m\"\u001b[39m)\n\u001b[1;32m     12\u001b[0m \u001b[38;5;28;01melse\u001b[39;00m:\n",
      "\u001b[0;31mAttributeError\u001b[0m: 'int' object has no attribute 'deleted_count'"
     ]
    }
   ],
   "source": [
    "#DELETE\n",
    "\"\"\"A Delete method that queries for and removes document(s) from a specified MongoDB database and specified collection\n",
    "Input -> arguments to function should be the key/value lookup pair to use with the MongoDB driver find API call.\n",
    "Return -> The number of objects removed from the collection.\"\"\"\n",
    "\n",
    "entryToDelete= {\"name\": \"Juni\"}\n",
    "\n",
    "deleted = petClub.delete(entryToDelete)\n",
    "\n",
    "if deleted.deleted_count > 0:\n",
    "    print(f\"removed {deleted.deleted_count} Juni's document entry\")\n",
    "else:\n",
    "    print(f\"no entry found with those parameters\")"
   ]
  },
  {
   "cell_type": "code",
   "execution_count": null,
   "id": "3d76a274",
   "metadata": {},
   "outputs": [],
   "source": []
  }
 ],
 "metadata": {
  "kernelspec": {
   "display_name": "Python 3 (ipykernel)",
   "language": "python",
   "name": "python3"
  },
  "language_info": {
   "codemirror_mode": {
    "name": "ipython",
    "version": 3
   },
   "file_extension": ".py",
   "mimetype": "text/x-python",
   "name": "python",
   "nbconvert_exporter": "python",
   "pygments_lexer": "ipython3",
   "version": "3.9.12"
  }
 },
 "nbformat": 4,
 "nbformat_minor": 5
}
